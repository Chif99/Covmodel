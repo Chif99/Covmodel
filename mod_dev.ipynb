{
 "cells": [
  {
   "cell_type": "code",
   "execution_count": 44,
   "source": [
    "import numpy as np\r\n",
    "import skimage as ski\r\n",
    "from skimage import io\r\n",
    "import matplotlib.pyplot as plt\r\n",
    "import matplotlib.image as mpltimg\r\n",
    "import os\r\n",
    "import cv2\r\n",
    "from PIL import Image\r\n",
    "import keras as krs\r\n",
    "import tensorflow as tf"
   ],
   "outputs": [],
   "metadata": {}
  },
  {
   "cell_type": "code",
   "execution_count": 45,
   "source": [
    "#trainin stuffs\r\n",
    "from keras.preprocessing.image import ImageDataGenerator\r\n",
    "from keras.models import Sequential\r\n",
    "from keras.layers import Conv2D, MaxPooling2D, BatchNormalization\r\n",
    "from keras.layers import Activation, Dropout, Flatten, Dense\r\n",
    "from keras.utils import conv_utils"
   ],
   "outputs": [],
   "metadata": {}
  },
  {
   "cell_type": "code",
   "execution_count": 46,
   "source": [
    "dataset = []\r\n",
    "labels = []\r\n",
    "# importing the dataset first for train/test \r\n",
    "# labels are binary (1, 0)\r\n",
    "# 1 stands for infected\r\n",
    "# 0 stands for control"
   ],
   "outputs": [],
   "metadata": {}
  },
  {
   "cell_type": "code",
   "execution_count": 47,
   "source": [
    "# here goes the infected batch of data\r\n",
    "infected_imgs = os.listdir('E:/DEMO/data_set/infected')\r\n",
    "for i, image_name in enumerate(infected_imgs): \r\n",
    "    image = cv2.imread(\"E:/DEMO/data_set/infected/\" +  image_name)\r\n",
    "    image = Image.fromarray(image, 'RGB')\r\n",
    "    image = image.resize((100, 100))\r\n",
    "    dataset.append(np.array(image))\r\n",
    "    labels.append(1)"
   ],
   "outputs": [],
   "metadata": {}
  },
  {
   "cell_type": "code",
   "execution_count": 48,
   "source": [
    "# here goes the control batch of data\r\n",
    "infected_imgs = os.listdir('E:/DEMO/data_set/control/')\r\n",
    "for i, image_name in enumerate(infected_imgs):   \r\n",
    "    image = cv2.imread('E:/DEMO/data_set/control/' + image_name)\r\n",
    "    image = Image.fromarray(image, 'RGB')\r\n",
    "    image = image.resize((100, 100))\r\n",
    "    dataset.append(np.array(image))\r\n",
    "    labels.append(0)"
   ],
   "outputs": [],
   "metadata": {}
  },
  {
   "cell_type": "code",
   "execution_count": 49,
   "source": [
    "# converting dataset and labels from lists to np.ndarray() for the upcoming work\r\n",
    "dataset = np.array(dataset)\r\n",
    "labels = np.array(labels)"
   ],
   "outputs": [],
   "metadata": {}
  },
  {
   "cell_type": "code",
   "execution_count": 50,
   "source": [
    "from sklearn.model_selection import train_test_split\r\n",
    "x_train, x_test, y_train, y_test = train_test_split(dataset, labels, test_size = 0.20, random_state = 0)"
   ],
   "outputs": [],
   "metadata": {}
  },
  {
   "cell_type": "code",
   "execution_count": 51,
   "source": [
    "x_train = tf.keras.utils.normalize(x_train, axis=1)\r\n",
    "x_test = tf.keras.utils.normalize(x_test, axis=1)"
   ],
   "outputs": [],
   "metadata": {}
  },
  {
   "cell_type": "code",
   "execution_count": null,
   "source": [
    "#creatin za model\r\n",
    "model = Sequential()\r\n"
   ],
   "outputs": [],
   "metadata": {}
  }
 ],
 "metadata": {
  "orig_nbformat": 4,
  "language_info": {
   "name": "python",
   "version": "3.7.4",
   "mimetype": "text/x-python",
   "codemirror_mode": {
    "name": "ipython",
    "version": 3
   },
   "pygments_lexer": "ipython3",
   "nbconvert_exporter": "python",
   "file_extension": ".py"
  },
  "kernelspec": {
   "name": "python3",
   "display_name": "Python 3.7.4 64-bit ('base': conda)"
  },
  "interpreter": {
   "hash": "db196df78566367d8cc66ee2d63a7f3009100341751c744c80d536d98da7595e"
  }
 },
 "nbformat": 4,
 "nbformat_minor": 2
}